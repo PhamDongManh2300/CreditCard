{
 "cells": [
  {
   "cell_type": "code",
   "execution_count": 1,
   "id": "5c250464",
   "metadata": {
    "id": "5c250464"
   },
   "outputs": [],
   "source": [
    "import numpy as np\n",
    "import pandas as pd\n",
    "import matplotlib.pyplot as plt\n",
    "import seaborn as sns\n",
    "%matplotlib inline\n",
    "\n",
    "from sklearn.compose import ColumnTransformer\n",
    "from sklearn.model_selection import train_test_split\n",
    "from sklearn import metrics\n",
    "from imblearn.over_sampling import SMOTE\n",
    "#from sklearn.model_selection import cross_val_score\n",
    "from sklearn.linear_model import LogisticRegression\n",
    "from sklearn.metrics import accuracy_score, confusion_matrix, f1_score, roc_curve,precision_score, classification_report, recall_score\n",
    "from sklearn.preprocessing import LabelEncoder, RobustScaler, OneHotEncoder, StandardScaler\n",
    "from sklearn.metrics import ConfusionMatrixDisplay"
   ]
  },
  {
   "cell_type": "code",
   "execution_count": 2,
   "id": "d9409787",
   "metadata": {
    "colab": {
     "base_uri": "https://localhost:8080/",
     "height": 444
    },
    "id": "d9409787",
    "outputId": "ba0ba622-db16-448f-863d-a69e2985b2e1"
   },
   "outputs": [
    {
     "data": {
      "text/html": [
       "<div>\n",
       "<style scoped>\n",
       "    .dataframe tbody tr th:only-of-type {\n",
       "        vertical-align: middle;\n",
       "    }\n",
       "\n",
       "    .dataframe tbody tr th {\n",
       "        vertical-align: top;\n",
       "    }\n",
       "\n",
       "    .dataframe thead th {\n",
       "        text-align: right;\n",
       "    }\n",
       "</style>\n",
       "<table border=\"1\" class=\"dataframe\">\n",
       "  <thead>\n",
       "    <tr style=\"text-align: right;\">\n",
       "      <th></th>\n",
       "      <th>Time</th>\n",
       "      <th>V1</th>\n",
       "      <th>V2</th>\n",
       "      <th>V3</th>\n",
       "      <th>V4</th>\n",
       "      <th>V5</th>\n",
       "      <th>V6</th>\n",
       "      <th>V7</th>\n",
       "      <th>V8</th>\n",
       "      <th>V9</th>\n",
       "      <th>...</th>\n",
       "      <th>V21</th>\n",
       "      <th>V22</th>\n",
       "      <th>V23</th>\n",
       "      <th>V24</th>\n",
       "      <th>V25</th>\n",
       "      <th>V26</th>\n",
       "      <th>V27</th>\n",
       "      <th>V28</th>\n",
       "      <th>Amount</th>\n",
       "      <th>Class</th>\n",
       "    </tr>\n",
       "  </thead>\n",
       "  <tbody>\n",
       "    <tr>\n",
       "      <th>0</th>\n",
       "      <td>0.0</td>\n",
       "      <td>-1.359807</td>\n",
       "      <td>-0.072781</td>\n",
       "      <td>2.536347</td>\n",
       "      <td>1.378155</td>\n",
       "      <td>-0.338321</td>\n",
       "      <td>0.462388</td>\n",
       "      <td>0.239599</td>\n",
       "      <td>0.098698</td>\n",
       "      <td>0.363787</td>\n",
       "      <td>...</td>\n",
       "      <td>-0.018307</td>\n",
       "      <td>0.277838</td>\n",
       "      <td>-0.110474</td>\n",
       "      <td>0.066928</td>\n",
       "      <td>0.128539</td>\n",
       "      <td>-0.189115</td>\n",
       "      <td>0.133558</td>\n",
       "      <td>-0.021053</td>\n",
       "      <td>149.62</td>\n",
       "      <td>0</td>\n",
       "    </tr>\n",
       "    <tr>\n",
       "      <th>1</th>\n",
       "      <td>0.0</td>\n",
       "      <td>1.191857</td>\n",
       "      <td>0.266151</td>\n",
       "      <td>0.166480</td>\n",
       "      <td>0.448154</td>\n",
       "      <td>0.060018</td>\n",
       "      <td>-0.082361</td>\n",
       "      <td>-0.078803</td>\n",
       "      <td>0.085102</td>\n",
       "      <td>-0.255425</td>\n",
       "      <td>...</td>\n",
       "      <td>-0.225775</td>\n",
       "      <td>-0.638672</td>\n",
       "      <td>0.101288</td>\n",
       "      <td>-0.339846</td>\n",
       "      <td>0.167170</td>\n",
       "      <td>0.125895</td>\n",
       "      <td>-0.008983</td>\n",
       "      <td>0.014724</td>\n",
       "      <td>2.69</td>\n",
       "      <td>0</td>\n",
       "    </tr>\n",
       "    <tr>\n",
       "      <th>2</th>\n",
       "      <td>1.0</td>\n",
       "      <td>-1.358354</td>\n",
       "      <td>-1.340163</td>\n",
       "      <td>1.773209</td>\n",
       "      <td>0.379780</td>\n",
       "      <td>-0.503198</td>\n",
       "      <td>1.800499</td>\n",
       "      <td>0.791461</td>\n",
       "      <td>0.247676</td>\n",
       "      <td>-1.514654</td>\n",
       "      <td>...</td>\n",
       "      <td>0.247998</td>\n",
       "      <td>0.771679</td>\n",
       "      <td>0.909412</td>\n",
       "      <td>-0.689281</td>\n",
       "      <td>-0.327642</td>\n",
       "      <td>-0.139097</td>\n",
       "      <td>-0.055353</td>\n",
       "      <td>-0.059752</td>\n",
       "      <td>378.66</td>\n",
       "      <td>0</td>\n",
       "    </tr>\n",
       "    <tr>\n",
       "      <th>3</th>\n",
       "      <td>1.0</td>\n",
       "      <td>-0.966272</td>\n",
       "      <td>-0.185226</td>\n",
       "      <td>1.792993</td>\n",
       "      <td>-0.863291</td>\n",
       "      <td>-0.010309</td>\n",
       "      <td>1.247203</td>\n",
       "      <td>0.237609</td>\n",
       "      <td>0.377436</td>\n",
       "      <td>-1.387024</td>\n",
       "      <td>...</td>\n",
       "      <td>-0.108300</td>\n",
       "      <td>0.005274</td>\n",
       "      <td>-0.190321</td>\n",
       "      <td>-1.175575</td>\n",
       "      <td>0.647376</td>\n",
       "      <td>-0.221929</td>\n",
       "      <td>0.062723</td>\n",
       "      <td>0.061458</td>\n",
       "      <td>123.50</td>\n",
       "      <td>0</td>\n",
       "    </tr>\n",
       "    <tr>\n",
       "      <th>4</th>\n",
       "      <td>2.0</td>\n",
       "      <td>-1.158233</td>\n",
       "      <td>0.877737</td>\n",
       "      <td>1.548718</td>\n",
       "      <td>0.403034</td>\n",
       "      <td>-0.407193</td>\n",
       "      <td>0.095921</td>\n",
       "      <td>0.592941</td>\n",
       "      <td>-0.270533</td>\n",
       "      <td>0.817739</td>\n",
       "      <td>...</td>\n",
       "      <td>-0.009431</td>\n",
       "      <td>0.798278</td>\n",
       "      <td>-0.137458</td>\n",
       "      <td>0.141267</td>\n",
       "      <td>-0.206010</td>\n",
       "      <td>0.502292</td>\n",
       "      <td>0.219422</td>\n",
       "      <td>0.215153</td>\n",
       "      <td>69.99</td>\n",
       "      <td>0</td>\n",
       "    </tr>\n",
       "    <tr>\n",
       "      <th>...</th>\n",
       "      <td>...</td>\n",
       "      <td>...</td>\n",
       "      <td>...</td>\n",
       "      <td>...</td>\n",
       "      <td>...</td>\n",
       "      <td>...</td>\n",
       "      <td>...</td>\n",
       "      <td>...</td>\n",
       "      <td>...</td>\n",
       "      <td>...</td>\n",
       "      <td>...</td>\n",
       "      <td>...</td>\n",
       "      <td>...</td>\n",
       "      <td>...</td>\n",
       "      <td>...</td>\n",
       "      <td>...</td>\n",
       "      <td>...</td>\n",
       "      <td>...</td>\n",
       "      <td>...</td>\n",
       "      <td>...</td>\n",
       "      <td>...</td>\n",
       "    </tr>\n",
       "    <tr>\n",
       "      <th>284802</th>\n",
       "      <td>172786.0</td>\n",
       "      <td>-11.881118</td>\n",
       "      <td>10.071785</td>\n",
       "      <td>-9.834783</td>\n",
       "      <td>-2.066656</td>\n",
       "      <td>-5.364473</td>\n",
       "      <td>-2.606837</td>\n",
       "      <td>-4.918215</td>\n",
       "      <td>7.305334</td>\n",
       "      <td>1.914428</td>\n",
       "      <td>...</td>\n",
       "      <td>0.213454</td>\n",
       "      <td>0.111864</td>\n",
       "      <td>1.014480</td>\n",
       "      <td>-0.509348</td>\n",
       "      <td>1.436807</td>\n",
       "      <td>0.250034</td>\n",
       "      <td>0.943651</td>\n",
       "      <td>0.823731</td>\n",
       "      <td>0.77</td>\n",
       "      <td>0</td>\n",
       "    </tr>\n",
       "    <tr>\n",
       "      <th>284803</th>\n",
       "      <td>172787.0</td>\n",
       "      <td>-0.732789</td>\n",
       "      <td>-0.055080</td>\n",
       "      <td>2.035030</td>\n",
       "      <td>-0.738589</td>\n",
       "      <td>0.868229</td>\n",
       "      <td>1.058415</td>\n",
       "      <td>0.024330</td>\n",
       "      <td>0.294869</td>\n",
       "      <td>0.584800</td>\n",
       "      <td>...</td>\n",
       "      <td>0.214205</td>\n",
       "      <td>0.924384</td>\n",
       "      <td>0.012463</td>\n",
       "      <td>-1.016226</td>\n",
       "      <td>-0.606624</td>\n",
       "      <td>-0.395255</td>\n",
       "      <td>0.068472</td>\n",
       "      <td>-0.053527</td>\n",
       "      <td>24.79</td>\n",
       "      <td>0</td>\n",
       "    </tr>\n",
       "    <tr>\n",
       "      <th>284804</th>\n",
       "      <td>172788.0</td>\n",
       "      <td>1.919565</td>\n",
       "      <td>-0.301254</td>\n",
       "      <td>-3.249640</td>\n",
       "      <td>-0.557828</td>\n",
       "      <td>2.630515</td>\n",
       "      <td>3.031260</td>\n",
       "      <td>-0.296827</td>\n",
       "      <td>0.708417</td>\n",
       "      <td>0.432454</td>\n",
       "      <td>...</td>\n",
       "      <td>0.232045</td>\n",
       "      <td>0.578229</td>\n",
       "      <td>-0.037501</td>\n",
       "      <td>0.640134</td>\n",
       "      <td>0.265745</td>\n",
       "      <td>-0.087371</td>\n",
       "      <td>0.004455</td>\n",
       "      <td>-0.026561</td>\n",
       "      <td>67.88</td>\n",
       "      <td>0</td>\n",
       "    </tr>\n",
       "    <tr>\n",
       "      <th>284805</th>\n",
       "      <td>172788.0</td>\n",
       "      <td>-0.240440</td>\n",
       "      <td>0.530483</td>\n",
       "      <td>0.702510</td>\n",
       "      <td>0.689799</td>\n",
       "      <td>-0.377961</td>\n",
       "      <td>0.623708</td>\n",
       "      <td>-0.686180</td>\n",
       "      <td>0.679145</td>\n",
       "      <td>0.392087</td>\n",
       "      <td>...</td>\n",
       "      <td>0.265245</td>\n",
       "      <td>0.800049</td>\n",
       "      <td>-0.163298</td>\n",
       "      <td>0.123205</td>\n",
       "      <td>-0.569159</td>\n",
       "      <td>0.546668</td>\n",
       "      <td>0.108821</td>\n",
       "      <td>0.104533</td>\n",
       "      <td>10.00</td>\n",
       "      <td>0</td>\n",
       "    </tr>\n",
       "    <tr>\n",
       "      <th>284806</th>\n",
       "      <td>172792.0</td>\n",
       "      <td>-0.533413</td>\n",
       "      <td>-0.189733</td>\n",
       "      <td>0.703337</td>\n",
       "      <td>-0.506271</td>\n",
       "      <td>-0.012546</td>\n",
       "      <td>-0.649617</td>\n",
       "      <td>1.577006</td>\n",
       "      <td>-0.414650</td>\n",
       "      <td>0.486180</td>\n",
       "      <td>...</td>\n",
       "      <td>0.261057</td>\n",
       "      <td>0.643078</td>\n",
       "      <td>0.376777</td>\n",
       "      <td>0.008797</td>\n",
       "      <td>-0.473649</td>\n",
       "      <td>-0.818267</td>\n",
       "      <td>-0.002415</td>\n",
       "      <td>0.013649</td>\n",
       "      <td>217.00</td>\n",
       "      <td>0</td>\n",
       "    </tr>\n",
       "  </tbody>\n",
       "</table>\n",
       "<p>284807 rows × 31 columns</p>\n",
       "</div>"
      ],
      "text/plain": [
       "            Time         V1         V2        V3        V4        V5  \\\n",
       "0            0.0  -1.359807  -0.072781  2.536347  1.378155 -0.338321   \n",
       "1            0.0   1.191857   0.266151  0.166480  0.448154  0.060018   \n",
       "2            1.0  -1.358354  -1.340163  1.773209  0.379780 -0.503198   \n",
       "3            1.0  -0.966272  -0.185226  1.792993 -0.863291 -0.010309   \n",
       "4            2.0  -1.158233   0.877737  1.548718  0.403034 -0.407193   \n",
       "...          ...        ...        ...       ...       ...       ...   \n",
       "284802  172786.0 -11.881118  10.071785 -9.834783 -2.066656 -5.364473   \n",
       "284803  172787.0  -0.732789  -0.055080  2.035030 -0.738589  0.868229   \n",
       "284804  172788.0   1.919565  -0.301254 -3.249640 -0.557828  2.630515   \n",
       "284805  172788.0  -0.240440   0.530483  0.702510  0.689799 -0.377961   \n",
       "284806  172792.0  -0.533413  -0.189733  0.703337 -0.506271 -0.012546   \n",
       "\n",
       "              V6        V7        V8        V9  ...       V21       V22  \\\n",
       "0       0.462388  0.239599  0.098698  0.363787  ... -0.018307  0.277838   \n",
       "1      -0.082361 -0.078803  0.085102 -0.255425  ... -0.225775 -0.638672   \n",
       "2       1.800499  0.791461  0.247676 -1.514654  ...  0.247998  0.771679   \n",
       "3       1.247203  0.237609  0.377436 -1.387024  ... -0.108300  0.005274   \n",
       "4       0.095921  0.592941 -0.270533  0.817739  ... -0.009431  0.798278   \n",
       "...          ...       ...       ...       ...  ...       ...       ...   \n",
       "284802 -2.606837 -4.918215  7.305334  1.914428  ...  0.213454  0.111864   \n",
       "284803  1.058415  0.024330  0.294869  0.584800  ...  0.214205  0.924384   \n",
       "284804  3.031260 -0.296827  0.708417  0.432454  ...  0.232045  0.578229   \n",
       "284805  0.623708 -0.686180  0.679145  0.392087  ...  0.265245  0.800049   \n",
       "284806 -0.649617  1.577006 -0.414650  0.486180  ...  0.261057  0.643078   \n",
       "\n",
       "             V23       V24       V25       V26       V27       V28  Amount  \\\n",
       "0      -0.110474  0.066928  0.128539 -0.189115  0.133558 -0.021053  149.62   \n",
       "1       0.101288 -0.339846  0.167170  0.125895 -0.008983  0.014724    2.69   \n",
       "2       0.909412 -0.689281 -0.327642 -0.139097 -0.055353 -0.059752  378.66   \n",
       "3      -0.190321 -1.175575  0.647376 -0.221929  0.062723  0.061458  123.50   \n",
       "4      -0.137458  0.141267 -0.206010  0.502292  0.219422  0.215153   69.99   \n",
       "...          ...       ...       ...       ...       ...       ...     ...   \n",
       "284802  1.014480 -0.509348  1.436807  0.250034  0.943651  0.823731    0.77   \n",
       "284803  0.012463 -1.016226 -0.606624 -0.395255  0.068472 -0.053527   24.79   \n",
       "284804 -0.037501  0.640134  0.265745 -0.087371  0.004455 -0.026561   67.88   \n",
       "284805 -0.163298  0.123205 -0.569159  0.546668  0.108821  0.104533   10.00   \n",
       "284806  0.376777  0.008797 -0.473649 -0.818267 -0.002415  0.013649  217.00   \n",
       "\n",
       "        Class  \n",
       "0           0  \n",
       "1           0  \n",
       "2           0  \n",
       "3           0  \n",
       "4           0  \n",
       "...       ...  \n",
       "284802      0  \n",
       "284803      0  \n",
       "284804      0  \n",
       "284805      0  \n",
       "284806      0  \n",
       "\n",
       "[284807 rows x 31 columns]"
      ]
     },
     "execution_count": 2,
     "metadata": {},
     "output_type": "execute_result"
    }
   ],
   "source": [
    "df = pd.read_csv('creditcard.csv')\n",
    "df"
   ]
  },
  {
   "cell_type": "markdown",
   "id": "04e20e30",
   "metadata": {},
   "source": [
    "### Làm sạch"
   ]
  },
  {
   "cell_type": "code",
   "execution_count": 3,
   "id": "b5d79d83",
   "metadata": {
    "colab": {
     "base_uri": "https://localhost:8080/",
     "height": 410
    },
    "id": "b5d79d83",
    "outputId": "071b6e75-68da-4b52-8f2a-1a291760952c"
   },
   "outputs": [
    {
     "name": "stdout",
     "output_type": "stream",
     "text": [
      "Class\n",
      "0    284315\n",
      "1       492\n",
      "Name: count, dtype: int64\n"
     ]
    },
    {
     "data": {
      "image/png": "[encoded data removed]",
      "text/plain": [
       "<Figure size 600x400 with 1 Axes>"
      ]
     },
     "metadata": {},
     "output_type": "display_data"
    }
   ],
   "source": [
    " # Trực quan hóa trường hợp gian lận và không gian lận\n",
    "class_counts=df['Class'].value_counts()\n",
    "print(class_counts)\n",
    "plt.figure(figsize=(6, 4))\n",
    "class_counts.plot(kind='bar', color=['mediumseagreen', 'yellow'])\n",
    "plt.title('Phân Bổ Không Gian Lận Và Gian Lận')\n",
    "plt.xlabel('Class')\n",
    "plt.ylabel('Count')\n",
    "plt.yscale('log')\n",
    "plt.xticks(ticks=[0, 1], labels=['Không Gian Lận', 'Gian Lận'], rotation=0)\n",
    "plt.show()"
   ]
  },
  {
   "cell_type": "code",
   "execution_count": 4,
   "id": "9YROr2_lVeCa",
   "metadata": {
    "colab": {
     "base_uri": "https://localhost:8080/"
    },
    "id": "9YROr2_lVeCa",
    "outputId": "9482dff8-5751-4fda-a46c-aea8a3aa5942",
    "scrolled": true
   },
   "outputs": [
    {
     "data": {
      "text/plain": [
       "Time      0\n",
       "V1        0\n",
       "V2        0\n",
       "V3        0\n",
       "V4        0\n",
       "V5        0\n",
       "V6        0\n",
       "V7        0\n",
       "V8        0\n",
       "V9        0\n",
       "V10       0\n",
       "V11       0\n",
       "V12       0\n",
       "V13       0\n",
       "V14       0\n",
       "V15       0\n",
       "V16       0\n",
       "V17       0\n",
       "V18       0\n",
       "V19       0\n",
       "V20       0\n",
       "V21       0\n",
       "V22       0\n",
       "V23       0\n",
       "V24       0\n",
       "V25       0\n",
       "V26       0\n",
       "V27       0\n",
       "V28       0\n",
       "Amount    0\n",
       "Class     0\n",
       "dtype: int64"
      ]
     },
     "execution_count": 4,
     "metadata": {},
     "output_type": "execute_result"
    }
   ],
   "source": [
    "# Kiểm tra dữ liệu rỗng\n",
    "df.isna().sum()"
   ]
  },
  {
   "cell_type": "code",
   "execution_count": 5,
   "id": "e4f7b6e3",
   "metadata": {
    "scrolled": true
   },
   "outputs": [
    {
     "data": {
      "text/html": [
       "<div>\n",
       "<style scoped>\n",
       "    .dataframe tbody tr th:only-of-type {\n",
       "        vertical-align: middle;\n",
       "    }\n",
       "\n",
       "    .dataframe tbody tr th {\n",
       "        vertical-align: top;\n",
       "    }\n",
       "\n",
       "    .dataframe thead th {\n",
       "        text-align: right;\n",
       "    }\n",
       "</style>\n",
       "<table border=\"1\" class=\"dataframe\">\n",
       "  <thead>\n",
       "    <tr style=\"text-align: right;\">\n",
       "      <th></th>\n",
       "      <th>Time</th>\n",
       "      <th>V1</th>\n",
       "      <th>V2</th>\n",
       "      <th>V3</th>\n",
       "      <th>V4</th>\n",
       "      <th>V5</th>\n",
       "      <th>V6</th>\n",
       "      <th>V7</th>\n",
       "      <th>V8</th>\n",
       "      <th>V9</th>\n",
       "      <th>...</th>\n",
       "      <th>V21</th>\n",
       "      <th>V22</th>\n",
       "      <th>V23</th>\n",
       "      <th>V24</th>\n",
       "      <th>V25</th>\n",
       "      <th>V26</th>\n",
       "      <th>V27</th>\n",
       "      <th>V28</th>\n",
       "      <th>Amount</th>\n",
       "      <th>Class</th>\n",
       "    </tr>\n",
       "  </thead>\n",
       "  <tbody>\n",
       "    <tr>\n",
       "      <th>33</th>\n",
       "      <td>26.0</td>\n",
       "      <td>-0.529912</td>\n",
       "      <td>0.873892</td>\n",
       "      <td>1.347247</td>\n",
       "      <td>0.145457</td>\n",
       "      <td>0.414209</td>\n",
       "      <td>0.100223</td>\n",
       "      <td>0.711206</td>\n",
       "      <td>0.176066</td>\n",
       "      <td>-0.286717</td>\n",
       "      <td>...</td>\n",
       "      <td>0.046949</td>\n",
       "      <td>0.208105</td>\n",
       "      <td>-0.185548</td>\n",
       "      <td>0.001031</td>\n",
       "      <td>0.098816</td>\n",
       "      <td>-0.552904</td>\n",
       "      <td>-0.073288</td>\n",
       "      <td>0.023307</td>\n",
       "      <td>6.14</td>\n",
       "      <td>0</td>\n",
       "    </tr>\n",
       "    <tr>\n",
       "      <th>35</th>\n",
       "      <td>26.0</td>\n",
       "      <td>-0.535388</td>\n",
       "      <td>0.865268</td>\n",
       "      <td>1.351076</td>\n",
       "      <td>0.147575</td>\n",
       "      <td>0.433680</td>\n",
       "      <td>0.086983</td>\n",
       "      <td>0.693039</td>\n",
       "      <td>0.179742</td>\n",
       "      <td>-0.285642</td>\n",
       "      <td>...</td>\n",
       "      <td>0.049526</td>\n",
       "      <td>0.206537</td>\n",
       "      <td>-0.187108</td>\n",
       "      <td>0.000753</td>\n",
       "      <td>0.098117</td>\n",
       "      <td>-0.553471</td>\n",
       "      <td>-0.078306</td>\n",
       "      <td>0.025427</td>\n",
       "      <td>1.77</td>\n",
       "      <td>0</td>\n",
       "    </tr>\n",
       "    <tr>\n",
       "      <th>113</th>\n",
       "      <td>74.0</td>\n",
       "      <td>1.038370</td>\n",
       "      <td>0.127486</td>\n",
       "      <td>0.184456</td>\n",
       "      <td>1.109950</td>\n",
       "      <td>0.441699</td>\n",
       "      <td>0.945283</td>\n",
       "      <td>-0.036715</td>\n",
       "      <td>0.350995</td>\n",
       "      <td>0.118950</td>\n",
       "      <td>...</td>\n",
       "      <td>0.102520</td>\n",
       "      <td>0.605089</td>\n",
       "      <td>0.023092</td>\n",
       "      <td>-0.626463</td>\n",
       "      <td>0.479120</td>\n",
       "      <td>-0.166937</td>\n",
       "      <td>0.081247</td>\n",
       "      <td>0.001192</td>\n",
       "      <td>1.18</td>\n",
       "      <td>0</td>\n",
       "    </tr>\n",
       "    <tr>\n",
       "      <th>114</th>\n",
       "      <td>74.0</td>\n",
       "      <td>1.038370</td>\n",
       "      <td>0.127486</td>\n",
       "      <td>0.184456</td>\n",
       "      <td>1.109950</td>\n",
       "      <td>0.441699</td>\n",
       "      <td>0.945283</td>\n",
       "      <td>-0.036715</td>\n",
       "      <td>0.350995</td>\n",
       "      <td>0.118950</td>\n",
       "      <td>...</td>\n",
       "      <td>0.102520</td>\n",
       "      <td>0.605089</td>\n",
       "      <td>0.023092</td>\n",
       "      <td>-0.626463</td>\n",
       "      <td>0.479120</td>\n",
       "      <td>-0.166937</td>\n",
       "      <td>0.081247</td>\n",
       "      <td>0.001192</td>\n",
       "      <td>1.18</td>\n",
       "      <td>0</td>\n",
       "    </tr>\n",
       "    <tr>\n",
       "      <th>115</th>\n",
       "      <td>74.0</td>\n",
       "      <td>1.038370</td>\n",
       "      <td>0.127486</td>\n",
       "      <td>0.184456</td>\n",
       "      <td>1.109950</td>\n",
       "      <td>0.441699</td>\n",
       "      <td>0.945283</td>\n",
       "      <td>-0.036715</td>\n",
       "      <td>0.350995</td>\n",
       "      <td>0.118950</td>\n",
       "      <td>...</td>\n",
       "      <td>0.102520</td>\n",
       "      <td>0.605089</td>\n",
       "      <td>0.023092</td>\n",
       "      <td>-0.626463</td>\n",
       "      <td>0.479120</td>\n",
       "      <td>-0.166937</td>\n",
       "      <td>0.081247</td>\n",
       "      <td>0.001192</td>\n",
       "      <td>1.18</td>\n",
       "      <td>0</td>\n",
       "    </tr>\n",
       "    <tr>\n",
       "      <th>...</th>\n",
       "      <td>...</td>\n",
       "      <td>...</td>\n",
       "      <td>...</td>\n",
       "      <td>...</td>\n",
       "      <td>...</td>\n",
       "      <td>...</td>\n",
       "      <td>...</td>\n",
       "      <td>...</td>\n",
       "      <td>...</td>\n",
       "      <td>...</td>\n",
       "      <td>...</td>\n",
       "      <td>...</td>\n",
       "      <td>...</td>\n",
       "      <td>...</td>\n",
       "      <td>...</td>\n",
       "      <td>...</td>\n",
       "      <td>...</td>\n",
       "      <td>...</td>\n",
       "      <td>...</td>\n",
       "      <td>...</td>\n",
       "      <td>...</td>\n",
       "    </tr>\n",
       "    <tr>\n",
       "      <th>282987</th>\n",
       "      <td>171288.0</td>\n",
       "      <td>1.912550</td>\n",
       "      <td>-0.455240</td>\n",
       "      <td>-1.750654</td>\n",
       "      <td>0.454324</td>\n",
       "      <td>2.089130</td>\n",
       "      <td>4.160019</td>\n",
       "      <td>-0.881302</td>\n",
       "      <td>1.081750</td>\n",
       "      <td>1.022928</td>\n",
       "      <td>...</td>\n",
       "      <td>-0.524067</td>\n",
       "      <td>-1.337510</td>\n",
       "      <td>0.473943</td>\n",
       "      <td>0.616683</td>\n",
       "      <td>-0.283548</td>\n",
       "      <td>-1.084843</td>\n",
       "      <td>0.073133</td>\n",
       "      <td>-0.036020</td>\n",
       "      <td>11.99</td>\n",
       "      <td>0</td>\n",
       "    </tr>\n",
       "    <tr>\n",
       "      <th>283483</th>\n",
       "      <td>171627.0</td>\n",
       "      <td>-1.464380</td>\n",
       "      <td>1.368119</td>\n",
       "      <td>0.815992</td>\n",
       "      <td>-0.601282</td>\n",
       "      <td>-0.689115</td>\n",
       "      <td>-0.487154</td>\n",
       "      <td>-0.303778</td>\n",
       "      <td>0.884953</td>\n",
       "      <td>0.054065</td>\n",
       "      <td>...</td>\n",
       "      <td>0.287217</td>\n",
       "      <td>0.947825</td>\n",
       "      <td>-0.218773</td>\n",
       "      <td>0.082926</td>\n",
       "      <td>0.044127</td>\n",
       "      <td>0.639270</td>\n",
       "      <td>0.213565</td>\n",
       "      <td>0.119251</td>\n",
       "      <td>6.82</td>\n",
       "      <td>0</td>\n",
       "    </tr>\n",
       "    <tr>\n",
       "      <th>283485</th>\n",
       "      <td>171627.0</td>\n",
       "      <td>-1.457978</td>\n",
       "      <td>1.378203</td>\n",
       "      <td>0.811515</td>\n",
       "      <td>-0.603760</td>\n",
       "      <td>-0.711883</td>\n",
       "      <td>-0.471672</td>\n",
       "      <td>-0.282535</td>\n",
       "      <td>0.880654</td>\n",
       "      <td>0.052808</td>\n",
       "      <td>...</td>\n",
       "      <td>0.284205</td>\n",
       "      <td>0.949659</td>\n",
       "      <td>-0.216949</td>\n",
       "      <td>0.083250</td>\n",
       "      <td>0.044944</td>\n",
       "      <td>0.639933</td>\n",
       "      <td>0.219432</td>\n",
       "      <td>0.116772</td>\n",
       "      <td>11.93</td>\n",
       "      <td>0</td>\n",
       "    </tr>\n",
       "    <tr>\n",
       "      <th>284191</th>\n",
       "      <td>172233.0</td>\n",
       "      <td>-2.667936</td>\n",
       "      <td>3.160505</td>\n",
       "      <td>-3.355984</td>\n",
       "      <td>1.007845</td>\n",
       "      <td>-0.377397</td>\n",
       "      <td>-0.109730</td>\n",
       "      <td>-0.667233</td>\n",
       "      <td>2.309700</td>\n",
       "      <td>-1.639306</td>\n",
       "      <td>...</td>\n",
       "      <td>0.391483</td>\n",
       "      <td>0.266536</td>\n",
       "      <td>-0.079853</td>\n",
       "      <td>-0.096395</td>\n",
       "      <td>0.086719</td>\n",
       "      <td>-0.451128</td>\n",
       "      <td>-1.183743</td>\n",
       "      <td>-0.222200</td>\n",
       "      <td>55.66</td>\n",
       "      <td>0</td>\n",
       "    </tr>\n",
       "    <tr>\n",
       "      <th>284193</th>\n",
       "      <td>172233.0</td>\n",
       "      <td>-2.691642</td>\n",
       "      <td>3.123168</td>\n",
       "      <td>-3.339407</td>\n",
       "      <td>1.017018</td>\n",
       "      <td>-0.293095</td>\n",
       "      <td>-0.167054</td>\n",
       "      <td>-0.745886</td>\n",
       "      <td>2.325616</td>\n",
       "      <td>-1.634651</td>\n",
       "      <td>...</td>\n",
       "      <td>0.402639</td>\n",
       "      <td>0.259746</td>\n",
       "      <td>-0.086606</td>\n",
       "      <td>-0.097597</td>\n",
       "      <td>0.083693</td>\n",
       "      <td>-0.453584</td>\n",
       "      <td>-1.205466</td>\n",
       "      <td>-0.213020</td>\n",
       "      <td>36.74</td>\n",
       "      <td>0</td>\n",
       "    </tr>\n",
       "  </tbody>\n",
       "</table>\n",
       "<p>1081 rows × 31 columns</p>\n",
       "</div>"
      ],
      "text/plain": [
       "            Time        V1        V2        V3        V4        V5        V6  \\\n",
       "33          26.0 -0.529912  0.873892  1.347247  0.145457  0.414209  0.100223   \n",
       "35          26.0 -0.535388  0.865268  1.351076  0.147575  0.433680  0.086983   \n",
       "113         74.0  1.038370  0.127486  0.184456  1.109950  0.441699  0.945283   \n",
       "114         74.0  1.038370  0.127486  0.184456  1.109950  0.441699  0.945283   \n",
       "115         74.0  1.038370  0.127486  0.184456  1.109950  0.441699  0.945283   \n",
       "...          ...       ...       ...       ...       ...       ...       ...   \n",
       "282987  171288.0  1.912550 -0.455240 -1.750654  0.454324  2.089130  4.160019   \n",
       "283483  171627.0 -1.464380  1.368119  0.815992 -0.601282 -0.689115 -0.487154   \n",
       "283485  171627.0 -1.457978  1.378203  0.811515 -0.603760 -0.711883 -0.471672   \n",
       "284191  172233.0 -2.667936  3.160505 -3.355984  1.007845 -0.377397 -0.109730   \n",
       "284193  172233.0 -2.691642  3.123168 -3.339407  1.017018 -0.293095 -0.167054   \n",
       "\n",
       "              V7        V8        V9  ...       V21       V22       V23  \\\n",
       "33      0.711206  0.176066 -0.286717  ...  0.046949  0.208105 -0.185548   \n",
       "35      0.693039  0.179742 -0.285642  ...  0.049526  0.206537 -0.187108   \n",
       "113    -0.036715  0.350995  0.118950  ...  0.102520  0.605089  0.023092   \n",
       "114    -0.036715  0.350995  0.118950  ...  0.102520  0.605089  0.023092   \n",
       "115    -0.036715  0.350995  0.118950  ...  0.102520  0.605089  0.023092   \n",
       "...          ...       ...       ...  ...       ...       ...       ...   \n",
       "282987 -0.881302  1.081750  1.022928  ... -0.524067 -1.337510  0.473943   \n",
       "283483 -0.303778  0.884953  0.054065  ...  0.287217  0.947825 -0.218773   \n",
       "283485 -0.282535  0.880654  0.052808  ...  0.284205  0.949659 -0.216949   \n",
       "284191 -0.667233  2.309700 -1.639306  ...  0.391483  0.266536 -0.079853   \n",
       "284193 -0.745886  2.325616 -1.634651  ...  0.402639  0.259746 -0.086606   \n",
       "\n",
       "             V24       V25       V26       V27       V28  Amount  Class  \n",
       "33      0.001031  0.098816 -0.552904 -0.073288  0.023307    6.14      0  \n",
       "35      0.000753  0.098117 -0.553471 -0.078306  0.025427    1.77      0  \n",
       "113    -0.626463  0.479120 -0.166937  0.081247  0.001192    1.18      0  \n",
       "114    -0.626463  0.479120 -0.166937  0.081247  0.001192    1.18      0  \n",
       "115    -0.626463  0.479120 -0.166937  0.081247  0.001192    1.18      0  \n",
       "...          ...       ...       ...       ...       ...     ...    ...  \n",
       "282987  0.616683 -0.283548 -1.084843  0.073133 -0.036020   11.99      0  \n",
       "283483  0.082926  0.044127  0.639270  0.213565  0.119251    6.82      0  \n",
       "283485  0.083250  0.044944  0.639933  0.219432  0.116772   11.93      0  \n",
       "284191 -0.096395  0.086719 -0.451128 -1.183743 -0.222200   55.66      0  \n",
       "284193 -0.097597  0.083693 -0.453584 -1.205466 -0.213020   36.74      0  \n",
       "\n",
       "[1081 rows x 31 columns]"
      ]
     },
     "execution_count": 5,
     "metadata": {},
     "output_type": "execute_result"
    }
   ],
   "source": [
    "# Kiểm tra dữ liệu trùng lặp\n",
    "df[df.duplicated()]"
   ]
  },
  {
   "cell_type": "code",
   "execution_count": 6,
   "id": "38ed26e3",
   "metadata": {},
   "outputs": [
    {
     "data": {
      "text/plain": [
       "0"
      ]
     },
     "execution_count": 6,
     "metadata": {},
     "output_type": "execute_result"
    }
   ],
   "source": [
    "# Có những dòng dữ liệu chỉ trùng vài cột => không ảnh hưởng đến dữ liệu => Xóa những dòng dữ liệu giống nhau hoàn toàn\n",
    "df.drop_duplicates(inplace=True)\n",
    "# Kiểm tra lại \n",
    "df.duplicated().sum()"
   ]
  },
  {
   "cell_type": "markdown",
   "id": "0ee49ee5",
   "metadata": {},
   "source": [
    "### Tiền xử lý "
   ]
  },
  {
   "cell_type": "code",
   "execution_count": 7,
   "id": "8ab00fd9",
   "metadata": {
    "colab": {
     "base_uri": "https://localhost:8080/"
    },
    "id": "8ab00fd9",
    "outputId": "fd0dc5b1-8ad3-4db8-bc08-bcf69b908b9b"
   },
   "outputs": [
    {
     "name": "stdout",
     "output_type": "stream",
     "text": [
      "Class\n",
      "0    283253\n",
      "1       473\n",
      "Name: count, dtype: int64\n"
     ]
    }
   ],
   "source": [
    "# Các giao dịch gian lận và không gian lận sau khi xử lý dữ liệu\n",
    "print(df['Class'].value_counts())"
   ]
  },
  {
   "cell_type": "code",
   "execution_count": 8,
   "id": "a5569d87",
   "metadata": {},
   "outputs": [],
   "source": [
    "# Chọn biến\n",
    "X = df.drop('Class', axis=1)\n",
    "y = df['Class']\n",
    "# Tách dữ liệu thành tập huấn luyện và tập kiểm tra\n",
    "X_train, X_test, y_train, y_test = train_test_split(X, y, test_size=0.3,random_state=102)"
   ]
  },
  {
   "cell_type": "code",
   "execution_count": 9,
   "id": "bcd9d3a2",
   "metadata": {},
   "outputs": [
    {
     "name": "stdout",
     "output_type": "stream",
     "text": [
      "Class\n",
      "0    198281\n",
      "1       327\n",
      "Name: count, dtype: int64\n"
     ]
    },
    {
     "data": {
      "text/plain": [
       "198608"
      ]
     },
     "execution_count": 9,
     "metadata": {},
     "output_type": "execute_result"
    }
   ],
   "source": [
    "print(y_train.value_counts())\n",
    "y_train.count()"
   ]
  },
  {
   "cell_type": "code",
   "execution_count": 10,
   "id": "ITXHs1QINblz",
   "metadata": {
    "colab": {
     "base_uri": "https://localhost:8080/"
    },
    "id": "ITXHs1QINblz",
    "outputId": "45891633-c5ec-4104-eeec-51724ee8b1d1"
   },
   "outputs": [
    {
     "name": "stdout",
     "output_type": "stream",
     "text": [
      "(283726, 31) (396562, 30)\n"
     ]
    }
   ],
   "source": [
    "# Cân bằng dữ liệu tập train bằng SMOTE (không bị mất nhiều dữ liệu như Underpling hay dễ bị overfit như Oversampling)\n",
    "smote = SMOTE()\n",
    "X_smote, y_smote = smote.fit_resample(X_train, y_train)\n",
    "y_smote.value_counts()\n",
    "print(df.shape,X_smote.shape)"
   ]
  },
  {
   "cell_type": "code",
   "execution_count": 11,
   "id": "ee1f297b",
   "metadata": {},
   "outputs": [
    {
     "name": "stdout",
     "output_type": "stream",
     "text": [
      "Class\n",
      "0    198281\n",
      "1    198281\n",
      "Name: count, dtype: int64\n"
     ]
    },
    {
     "data": {
      "text/plain": [
       "396562"
      ]
     },
     "execution_count": 11,
     "metadata": {},
     "output_type": "execute_result"
    }
   ],
   "source": [
    "print(y_smote.value_counts())\n",
    "y_smote.count()"
   ]
  },
  {
   "cell_type": "code",
   "execution_count": 19,
   "id": "7d47c346",
   "metadata": {},
   "outputs": [
    {
     "name": "stdout",
     "output_type": "stream",
     "text": [
      "   Feature  Importance\n",
      "17     V17    0.183084\n",
      "14     V14    0.122063\n",
      "12     V12    0.121535\n",
      "10     V10    0.084176\n",
      "16     V16    0.061504\n",
      "11     V11    0.059916\n",
      "9       V9    0.032020\n",
      "4       V4    0.029290\n",
      "7       V7    0.025663\n",
      "18     V18    0.024220\n",
      "26     V26    0.018652\n",
      "21     V21    0.017586\n",
      "3       V3    0.017496\n",
      "1       V1    0.016530\n",
      "2       V2    0.014905\n",
      "8       V8    0.014251\n",
      "0     Time    0.013476\n",
      "27     V27    0.012727\n",
      "20     V20    0.012707\n",
      "6       V6    0.012489\n",
      "22     V22    0.012185\n",
      "15     V15    0.011874\n",
      "19     V19    0.011721\n",
      "28     V28    0.011632\n",
      "5       V5    0.010785\n",
      "13     V13    0.010681\n",
      "29  Amount    0.010466\n",
      "24     V24    0.009438\n",
      "25     V25    0.009375\n",
      "23     V23    0.007554\n"
     ]
    }
   ],
   "source": [
    "# Lọc biến bằng Random Forest\n",
    "from sklearn.ensemble import RandomForestClassifier\n",
    "\n",
    "# Khởi tạo mô hình Random Forest\n",
    "rf_model = RandomForestClassifier()\n",
    "\n",
    "# Huấn luyện mô hình trên dữ liệu\n",
    "rf_model.fit(X, y)\n",
    "\n",
    "# Đánh giá mức độ quan trọng của các biến\n",
    "importance = rf_model.feature_importances_\n",
    "\n",
    "# Tạo dataframe để hiển thị mức độ quan trọng của các biến\n",
    "feature_importance_df = pd.DataFrame({'Feature': X.columns, 'Importance': importance})\n",
    "feature_importance_df = feature_importance_df.sort_values('Importance', ascending=False)\n",
    "\n",
    "# In ra mức độ quan trọng của các biến\n",
    "print(feature_importance_df)"
   ]
  },
  {
   "cell_type": "markdown",
   "id": "e25cd36e",
   "metadata": {},
   "source": [
    "Do các biến đều có tầm quan trọng không quá lệch nhau => giữ nguyên các biến ban đầu"
   ]
  },
  {
   "cell_type": "code",
   "execution_count": 12,
   "id": "xTWOmaVpSpA9",
   "metadata": {
    "id": "xTWOmaVpSpA9"
   },
   "outputs": [],
   "source": [
    "# Chuẩn hoá dữ liệu\n",
    "scaler = StandardScaler()\n",
    "X_train = scaler.fit_transform(X_smote)\n",
    "X_test = scaler.transform(X_test)"
   ]
  },
  {
   "cell_type": "code",
   "execution_count": 13,
   "id": "J83ST_hMEY4l",
   "metadata": {
    "colab": {
     "base_uri": "https://localhost:8080/"
    },
    "id": "J83ST_hMEY4l",
    "outputId": "d94c6fc8-7622-447d-d04c-9fe53eee2fa0"
   },
   "outputs": [
    {
     "name": "stderr",
     "output_type": "stream",
     "text": [
      "C:\\Users\\LENOVO\\anaconda3\\Lib\\site-packages\\sklearn\\linear_model\\_logistic.py:458: ConvergenceWarning: lbfgs failed to converge (status=1):\n",
      "STOP: TOTAL NO. of ITERATIONS REACHED LIMIT.\n",
      "\n",
      "Increase the number of iterations (max_iter) or scale the data as shown in:\n",
      "    https://scikit-learn.org/stable/modules/preprocessing.html\n",
      "Please also refer to the documentation for alternative solver options:\n",
      "    https://scikit-learn.org/stable/modules/linear_model.html#logistic-regression\n",
      "  n_iter_i = _check_optimize_result(\n"
     ]
    },
    {
     "data": {
      "text/plain": [
       "array([[-3.56375570e-05,  1.58686435e-01,  5.52555510e-02,\n",
       "        -9.41381914e-01,  7.71037883e-01,  2.13775571e-02,\n",
       "        -2.52044289e-01, -4.03618249e-01, -7.05089944e-02,\n",
       "        -3.82267649e-01, -7.10950303e-01,  3.86648058e-01,\n",
       "        -7.33403436e-01, -1.67279334e-01, -1.23393007e+00,\n",
       "        -1.08188580e-01, -4.28513847e-01, -7.41616368e-01,\n",
       "        -1.50404712e-01,  6.85607527e-02,  1.11162233e-01,\n",
       "         5.58759944e-02,  1.13800166e-01,  2.17474035e-02,\n",
       "        -4.08359338e-03, -2.83855129e-02, -1.74949338e-02,\n",
       "         3.47552194e-02,  2.39415304e-02, -1.01400945e-05]])"
      ]
     },
     "execution_count": 13,
     "metadata": {},
     "output_type": "execute_result"
    }
   ],
   "source": [
    "# Huấn luyện mô hình bằng Logictic Regrestion:\n",
    "model = LogisticRegression()\n",
    "model.fit(X_smote, y_smote)\n",
    "model.coef_"
   ]
  },
  {
   "cell_type": "code",
   "execution_count": 14,
   "id": "URSucFv7FkYq",
   "metadata": {
    "colab": {
     "base_uri": "https://localhost:8080/"
    },
    "id": "URSucFv7FkYq",
    "outputId": "99496b3d-c6b6-4576-f5c1-6c1feb74c3bc"
   },
   "outputs": [
    {
     "name": "stdout",
     "output_type": "stream",
     "text": [
      "Accuracy score: 0.9993773349937733\n",
      "F1_Score: 0.8\n",
      "Confusion matrix:\n",
      "[[84959    13]\n",
      " [   40   106]]\n"
     ]
    },
    {
     "name": "stderr",
     "output_type": "stream",
     "text": [
      "C:\\Users\\LENOVO\\anaconda3\\Lib\\site-packages\\sklearn\\base.py:439: UserWarning: X does not have valid feature names, but LogisticRegression was fitted with feature names\n",
      "  warnings.warn(\n"
     ]
    }
   ],
   "source": [
    "# Đánh giá kết quả mô hình\n",
    "predictions_logic = model.predict(X_test)\n",
    "print('Accuracy score:', accuracy_score(y_test, predictions_logic))\n",
    "print('F1_Score:', f1_score(y_test, predictions_logic))\n",
    "print('Confusion matrix:')\n",
    "print(confusion_matrix(y_test, predictions_logic))"
   ]
  },
  {
   "cell_type": "code",
   "execution_count": 15,
   "id": "VtpPIDRTceDe",
   "metadata": {
    "colab": {
     "base_uri": "https://localhost:8080/",
     "height": 569
    },
    "id": "VtpPIDRTceDe",
    "outputId": "59b08331-95a1-4e12-d0f6-a9a40962e92d"
   },
   "outputs": [
    {
     "data": {
      "text/plain": [
       "Text(0.5, 427.9555555555555, 'Predicted label')"
      ]
     },
     "execution_count": 15,
     "metadata": {},
     "output_type": "execute_result"
    },
    {
     "data": {
      "image/png": "[encoded data removed]",
      "text/plain": [
       "<Figure size 640x480 with 2 Axes>"
      ]
     },
     "metadata": {},
     "output_type": "display_data"
    }
   ],
   "source": [
    "class_names=[0,1]\n",
    "fig, ax = plt.subplots()\n",
    "tick_marks = np.arange(len(class_names))\n",
    "plt.xticks(tick_marks, class_names)\n",
    "plt.yticks(tick_marks, class_names)\n",
    "\n",
    "# vẽ heatmap\n",
    "cnf_matrix=confusion_matrix(y_test, predictions_logic)\n",
    "sns.heatmap(pd.DataFrame(cnf_matrix), annot=True, cmap=\"YlGnBu\" ,fmt='g')\n",
    "ax.xaxis.set_label_position(\"top\")\n",
    "plt.tight_layout()\n",
    "plt.title('Confusion matrix', y=1.1)\n",
    "plt.ylabel('Actual label')\n",
    "plt.xlabel('Predicted label')"
   ]
  },
  {
   "cell_type": "code",
   "execution_count": 16,
   "id": "kECISi14c7Tj",
   "metadata": {
    "colab": {
     "base_uri": "https://localhost:8080/",
     "height": 430
    },
    "id": "kECISi14c7Tj",
    "outputId": "378fd57d-12f7-4f75-eacc-719bb8e06e01"
   },
   "outputs": [
    {
     "name": "stderr",
     "output_type": "stream",
     "text": [
      "C:\\Users\\LENOVO\\anaconda3\\Lib\\site-packages\\sklearn\\base.py:439: UserWarning: X does not have valid feature names, but LogisticRegression was fitted with feature names\n",
      "  warnings.warn(\n"
     ]
    },
    {
     "data": {
      "image/png": "[encoded data removed]",
      "text/plain": [
       "<Figure size 640x480 with 1 Axes>"
      ]
     },
     "metadata": {},
     "output_type": "display_data"
    }
   ],
   "source": [
    "y_pred_proba = model.predict_proba(X_test)[::,1]\n",
    "fpr, tpr, _ = metrics.roc_curve(y_test,  y_pred_proba)\n",
    "auc = metrics.roc_auc_score(y_test, y_pred_proba)\n",
    "plt.plot(fpr,tpr,label=\"data 1, auc=\"+str(auc))\n",
    "plt.legend(loc=4)\n",
    "plt.show()"
   ]
  },
  {
   "cell_type": "code",
   "execution_count": 17,
   "id": "e79490b8",
   "metadata": {
    "colab": {
     "base_uri": "https://localhost:8080/"
    },
    "id": "Y_xr6EjmhkpC",
    "outputId": "8a274724-b0d0-4611-b16f-12e1e47046fc"
   },
   "outputs": [
    {
     "name": "stderr",
     "output_type": "stream",
     "text": [
      "C:\\Users\\LENOVO\\anaconda3\\Lib\\site-packages\\sklearn\\base.py:439: UserWarning: X does not have valid feature names, but LogisticRegression was fitted with feature names\n",
      "  warnings.warn(\n",
      "C:\\Users\\LENOVO\\anaconda3\\Lib\\site-packages\\sklearn\\base.py:439: UserWarning: X does not have valid feature names, but LogisticRegression was fitted with feature names\n",
      "  warnings.warn(\n",
      "C:\\Users\\LENOVO\\anaconda3\\Lib\\site-packages\\sklearn\\base.py:439: UserWarning: X does not have valid feature names, but LogisticRegression was fitted with feature names\n",
      "  warnings.warn(\n",
      "C:\\Users\\LENOVO\\anaconda3\\Lib\\site-packages\\sklearn\\base.py:439: UserWarning: X does not have valid feature names, but LogisticRegression was fitted with feature names\n",
      "  warnings.warn(\n",
      "C:\\Users\\LENOVO\\anaconda3\\Lib\\site-packages\\sklearn\\base.py:439: UserWarning: X does not have valid feature names, but LogisticRegression was fitted with feature names\n",
      "  warnings.warn(\n",
      "C:\\Users\\LENOVO\\anaconda3\\Lib\\site-packages\\sklearn\\base.py:439: UserWarning: X does not have valid feature names, but LogisticRegression was fitted with feature names\n",
      "  warnings.warn(\n",
      "C:\\Users\\LENOVO\\anaconda3\\Lib\\site-packages\\sklearn\\base.py:439: UserWarning: X does not have valid feature names, but LogisticRegression was fitted with feature names\n",
      "  warnings.warn(\n",
      "C:\\Users\\LENOVO\\anaconda3\\Lib\\site-packages\\sklearn\\base.py:439: UserWarning: X does not have valid feature names, but LogisticRegression was fitted with feature names\n",
      "  warnings.warn(\n",
      "C:\\Users\\LENOVO\\anaconda3\\Lib\\site-packages\\sklearn\\base.py:439: UserWarning: X does not have valid feature names, but LogisticRegression was fitted with feature names\n",
      "  warnings.warn(\n"
     ]
    },
    {
     "name": "stdout",
     "output_type": "stream",
     "text": [
      "   Threshold    Recall  precision  F1 score\n",
      "0        0.1  0.999154   0.728395  0.766234\n",
      "1        0.2  0.999307   0.804196  0.795848\n",
      "2        0.3  0.999389   0.861538  0.811594\n",
      "3        0.4  0.999401   0.880000  0.811808\n",
      "4        0.5  0.999377   0.890756  0.800000\n",
      "5        0.6  0.999307   0.891892  0.770428\n",
      "6        0.7  0.999272   0.903846  0.752000\n",
      "7        0.8  0.999213   0.898990  0.726531\n",
      "8        0.9  0.999095   0.887640  0.672340\n"
     ]
    }
   ],
   "source": [
    "# Ngưỡng cắt \n",
    "thres = np.linspace(0.1, 0.9, 9)\n",
    "scores = []\n",
    "\n",
    "for i in thres:\n",
    "    y_pred = (model.predict_proba(X_test)[:, 1] >= i).astype(int)\n",
    "    recall = recall_score(y_test, y_pred, average='weighted')\n",
    "    precision = precision_score(y_test, y_pred)\n",
    "    F1_Scrore = f1_score(y_test, y_pred)\n",
    "    scores.append([i, recall, precision, F1_Scrore])\n",
    "\n",
    "df = pd.DataFrame(scores, columns=['Threshold', 'Recall', 'precision','F1 score'])\n",
    "print(df)"
   ]
  },
  {
   "cell_type": "markdown",
   "id": "478187f2",
   "metadata": {},
   "source": [
    "=> ngưỡng cắt tốt nhất là 0.4"
   ]
  },
  {
   "cell_type": "code",
   "execution_count": 18,
   "id": "gztaMb95hR-x",
   "metadata": {
    "colab": {
     "base_uri": "https://localhost:8080/"
    },
    "id": "gztaMb95hR-x",
    "outputId": "3ec26d9c-0a28-4053-fcd2-d428be51cd78"
   },
   "outputs": [
    {
     "name": "stderr",
     "output_type": "stream",
     "text": [
      "C:\\Users\\LENOVO\\anaconda3\\Lib\\site-packages\\sklearn\\base.py:439: UserWarning: X does not have valid feature names, but LogisticRegression was fitted with feature names\n",
      "  warnings.warn(\n"
     ]
    },
    {
     "data": {
      "text/plain": [
       "array([0, 0, 0, ..., 0, 0, 0])"
      ]
     },
     "execution_count": 18,
     "metadata": {},
     "output_type": "execute_result"
    }
   ],
   "source": [
    "y_pred = ((model.predict_proba(X_test)[:, 1] >= 0.4)).astype(int)\n",
    "y_pred"
   ]
  }
 ],
 "metadata": {
  "colab": {
   "provenance": []
  },
  "kernelspec": {
   "display_name": "Python 3 (ipykernel)",
   "language": "python",
   "name": "python3"
  },
  "language_info": {
   "codemirror_mode": {
    "name": "ipython",
    "version": 3
   },
   "file_extension": ".py",
   "mimetype": "text/x-python",
   "name": "python",
   "nbconvert_exporter": "python",
   "pygments_lexer": "ipython3",
   "version": "3.11.5"
  }
 },
 "nbformat": 4,
 "nbformat_minor": 5
}
